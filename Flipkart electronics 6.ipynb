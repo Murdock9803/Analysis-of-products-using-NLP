{
 "cells": [
  {
   "cell_type": "code",
   "execution_count": 1,
   "id": "59a89e40",
   "metadata": {},
   "outputs": [
    {
     "data": {
      "text/plain": [
       "['Battery is very bad time 30-40 mintsREAD MORE']"
      ]
     },
     "execution_count": 1,
     "metadata": {},
     "output_type": "execute_result"
    }
   ],
   "source": [
    " from bs4 import BeautifulSoup as bs\n",
    "import requests\n",
    "link='https://www.flipkart.com/zeebee-tws-m10-bluetooth-earbuds-wireless-gaming-headset-earbud/p/itme58b571def1f8?pid=ACCGH4EQGGGARYYQ&lid=LSTACCGH4EQGGGARYYQQVQZ7F&marketplace=FLIPKART&store=fcn&srno=b_16_609&otracker=CLP_Filters&fm=neo%2Fmerchandising&iid=56e136ec-3e40-4d57-8f8b-05906d32b7e7.ACCGH4EQGGGARYYQ.SEARCH&ppt=sp&ppn=sp'\n",
    "page=requests.get(link)\n",
    "soup= bs(page.content,\"html.parser\")\n",
    "review=soup.find_all(\"div\", class_=\"t-ZTKy\")\n",
    "review_content=[]\n",
    "for i in range(0,len(review)):\n",
    "    review_content.append(review[i].get_text())\n",
    "review_content\n",
    "review_content[:] = [reviews.lstrip('/n') for reviews in review_content]\n",
    "review_content[:] = [reviews.rstrip('/n') for reviews in review_content]\n",
    "review_content"
   ]
  },
  {
   "cell_type": "code",
   "execution_count": null,
   "id": "90e74a8a",
   "metadata": {},
   "outputs": [],
   "source": []
  }
 ],
 "metadata": {
  "kernelspec": {
   "display_name": "Python 3 (ipykernel)",
   "language": "python",
   "name": "python3"
  },
  "language_info": {
   "codemirror_mode": {
    "name": "ipython",
    "version": 3
   },
   "file_extension": ".py",
   "mimetype": "text/x-python",
   "name": "python",
   "nbconvert_exporter": "python",
   "pygments_lexer": "ipython3",
   "version": "3.9.7"
  }
 },
 "nbformat": 4,
 "nbformat_minor": 5
}
