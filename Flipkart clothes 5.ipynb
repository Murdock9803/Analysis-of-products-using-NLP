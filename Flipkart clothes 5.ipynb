{
 "cells": [
  {
   "cell_type": "code",
   "execution_count": 1,
   "id": "0b8135f2",
   "metadata": {},
   "outputs": [
    {
     "data": {
      "text/plain": [
       "[]"
      ]
     },
     "execution_count": 1,
     "metadata": {},
     "output_type": "execute_result"
    }
   ],
   "source": [
    " from bs4 import BeautifulSoup as bs\n",
    "import requests\n",
    "link='https://www.flipkart.com/wahegurufabrics-pure-cotton-embroidered-women-dupatta/p/itm7b239e71b4473?pid=DUPGEJGSWHPJZXRN&lid=LSTDUPGEJGSWHPJZXRNR81HCC&marketplace=FLIPKART&store=clo%2Fqd8%2Ft6b%2Fpjy&srno=b_10_372&otracker=browse&fm=neo%2Fmerchandising&iid=en_qdMamV18O4X6uBr9tV%2BcdW4rbMGaiKCBvoOLOqLQC0aIvye9ltfeFdubxQxQeNELBXDdwPOLctmrH70WLaqWhA%3D%3D&ppt=browse&ppn=browse'\n",
    "page=requests.get(link)\n",
    "soup= bs(page.content,\"html.parser\")\n",
    "review=soup.find_all(\"div\",class_= \"_6K-7Co\")\n",
    "review_content=[]\n",
    "for i in range(0,len(review)):\n",
    "    review_content.append(review[i].get_text())\n",
    "review_content\n",
    "review_content[:] = [reviews.lstrip('/n') for reviews in review_content]\n",
    "review_content[:] = [reviews.rstrip('/n') for reviews in review_content]\n",
    "review_content"
   ]
  },
  {
   "cell_type": "code",
   "execution_count": null,
   "id": "794d6050",
   "metadata": {},
   "outputs": [],
   "source": []
  }
 ],
 "metadata": {
  "kernelspec": {
   "display_name": "Python 3 (ipykernel)",
   "language": "python",
   "name": "python3"
  },
  "language_info": {
   "codemirror_mode": {
    "name": "ipython",
    "version": 3
   },
   "file_extension": ".py",
   "mimetype": "text/x-python",
   "name": "python",
   "nbconvert_exporter": "python",
   "pygments_lexer": "ipython3",
   "version": "3.9.7"
  }
 },
 "nbformat": 4,
 "nbformat_minor": 5
}
