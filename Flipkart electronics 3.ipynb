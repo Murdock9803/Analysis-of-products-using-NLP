{
 "cells": [
  {
   "cell_type": "code",
   "execution_count": 1,
   "id": "909f3812",
   "metadata": {},
   "outputs": [
    {
     "data": {
      "text/plain": [
       "['the product which is sent is NOT a wireless mouse. it s wired mouse..... do not buy the same going by the description.. i returned it...READ MORE']"
      ]
     },
     "execution_count": 1,
     "metadata": {},
     "output_type": "execute_result"
    }
   ],
   "source": [
    " from bs4 import BeautifulSoup as bs\n",
    "import requests\n",
    "link='https://www.flipkart.com/e-blue-ems151re-wireless-optical-mouse/p/itmecyhgwgbqyhb7?pid=ACCECYHGXZUGBXEU&lid=LSTACCECYHGXZUGBXEUTC8OCI&marketplace=FLIPKART&store=6bo%2Fai3%2F2ay&srno=b_7_268&otracker=nmenu_sub_Electronics_0_Mouse&fm=neo%2Fmerchandising&iid=55dec920-5a1a-455d-a601-d599377d555a.ACCECYHGXZUGBXEU.SEARCH&ppt=browse&ppn=browse&ssid=bb5e9lcurk0000001673981606228'\n",
    "page=requests.get(link)\n",
    "soup= bs(page.content,\"html.parser\")\n",
    "review=soup.find_all(\"div\", class_=\"t-ZTKy\")\n",
    "review_content=[]\n",
    "for i in range(0,len(review)):\n",
    "    review_content.append(review[i].get_text())\n",
    "review_content\n",
    "review_content[:] = [reviews.lstrip('/n') for reviews in review_content]\n",
    "review_content[:] = [reviews.rstrip('/n') for reviews in review_content]\n",
    "review_content"
   ]
  },
  {
   "cell_type": "code",
   "execution_count": null,
   "id": "9b3e337e",
   "metadata": {},
   "outputs": [],
   "source": []
  }
 ],
 "metadata": {
  "kernelspec": {
   "display_name": "Python 3 (ipykernel)",
   "language": "python",
   "name": "python3"
  },
  "language_info": {
   "codemirror_mode": {
    "name": "ipython",
    "version": 3
   },
   "file_extension": ".py",
   "mimetype": "text/x-python",
   "name": "python",
   "nbconvert_exporter": "python",
   "pygments_lexer": "ipython3",
   "version": "3.9.7"
  }
 },
 "nbformat": 4,
 "nbformat_minor": 5
}
