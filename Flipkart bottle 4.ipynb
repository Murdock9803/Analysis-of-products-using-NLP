{
 "cells": [
  {
   "cell_type": "code",
   "execution_count": 1,
   "id": "5a4cdbdf",
   "metadata": {},
   "outputs": [
    {
     "data": {
      "text/plain": [
       "['Good by designBut not keeping hot water more then 2 3 hoursREAD MORE']"
      ]
     },
     "execution_count": 1,
     "metadata": {},
     "output_type": "execute_result"
    }
   ],
   "source": [
    "from bs4 import BeautifulSoup as bs\n",
    "import requests\n",
    "link='https://www.flipkart.com/ashirwad-stainless-steel-smart-thermos-bottle-temperature-display-500-ml-flask/p/itmbd29ab05bb4ba?pid=BOTGH6GC4JNGJNMG&lid=LSTBOTGH6GC4JNGJNMGAWPFAJ&marketplace=FLIPKART&store=upp%2Ff2k%2F7k9&srno=b_6_225&otracker=nmenu_sub_Home%20%26%20Furniture_0_Flasks&fm=neo%2Fmerchandising&iid=a7756da0-691f-4334-b211-e0fb1b027b18.BOTGH6GC4JNGJNMG.SEARCH&ppt=browse&ppn=browse'\n",
    "page=requests.get(link)\n",
    "soup= bs(page.content,\"html.parser\")\n",
    "review=soup.find_all(\"div\",class_= \"t-ZTKy\")\n",
    "review_content=[]\n",
    "for i in range(0,len(review)):\n",
    "    review_content.append(review[i].get_text())\n",
    "review_content\n",
    "review_content[:] = [reviews.lstrip('/n') for reviews in review_content]\n",
    "review_content[:] = [reviews.rstrip('/n') for reviews in review_content]\n",
    "review_content"
   ]
  },
  {
   "cell_type": "code",
   "execution_count": null,
   "id": "c2005f57",
   "metadata": {},
   "outputs": [],
   "source": []
  }
 ],
 "metadata": {
  "kernelspec": {
   "display_name": "Python 3 (ipykernel)",
   "language": "python",
   "name": "python3"
  },
  "language_info": {
   "codemirror_mode": {
    "name": "ipython",
    "version": 3
   },
   "file_extension": ".py",
   "mimetype": "text/x-python",
   "name": "python",
   "nbconvert_exporter": "python",
   "pygments_lexer": "ipython3",
   "version": "3.9.7"
  }
 },
 "nbformat": 4,
 "nbformat_minor": 5
}
