{
 "cells": [
  {
   "cell_type": "code",
   "execution_count": 1,
   "id": "65f67f07",
   "metadata": {},
   "outputs": [
    {
     "data": {
      "text/plain": [
       "['Same colour as shown in picture 🙂.. love it. But m not using right now 😂. Hope it will be great 😊READ MORE',\n",
       " \"Its a good product for school & college going people as it can accommodate fair enough quantity of water tho it can't keep it cold or warm for lond period of time. Lookwise great,looks classy and rich.READ MORE\",\n",
       " \"I'll not Recommend for this product.This is not as like Image.Heat comes out from bottle.Design is not good as like advertising Image.Not reach the my expectation.READ MORE\",\n",
       " 'Very badREAD MORE',\n",
       " \"Product was good, it's ok for hot n cold, but not for whole day, the design was good for cleaning but not good to drink.READ MORE\",\n",
       " 'It holds hot water for long time. Price wise it is a very good product.READ MORE',\n",
       " \"It doesn't provide much insulation. Actually it is not a thermoflask. So your hot water remain hot for a maximum duration of 1 hr. Over all quality is good. Bottle is cute. Everything is good except insulation.READ MORE\",\n",
       " 'The product is so good 😊 😊 its design, shape and size, colour, light weight, durable enough, easy to   carry. Its best from all perspectives 😍😍😍READ MORE',\n",
       " 'This is the best product and color to chooseThis color is so milky like structureREAD MORE',\n",
       " 'Good quality 💗 thank you FlipkartREAD MORE']"
      ]
     },
     "execution_count": 1,
     "metadata": {},
     "output_type": "execute_result"
    }
   ],
   "source": [
    "from bs4 import BeautifulSoup as bs\n",
    "import requests\n",
    "link='https://www.flipkart.com/cello-puro-steel-x-benz-insulated-water-bottle-900-ml/p/itmd039f258ed2e5?pid=BOTFY8FNY687FHFU&lid=LSTBOTFY8FNY687FHFUHMGLNL&marketplace=FLIPKART&store=upp%2Ff2k%2F0zz&srno=b_1_15&otracker=clp_omu_Household%2BRange_1_5.dealCard.OMU_hnf-bsd-sale-23-store_hnf-bsd-sale-23-store_RZX3HZV914EG_5&otracker1=clp_omu_PINNED_neo%2Fmerchandising_Household%2BRange_NA_dealCard_cc_1_NA_view-all_5&fm=neo%2Fmerchandising&iid=b907a9a0-6de2-4417-add1-aa0ac509907d.BOTFY8FNY687FHFU.SEARCH&ppt=browse&ppn=browse'\n",
    "page=requests.get(link)\n",
    "soup= bs(page.content,\"html.parser\")\n",
    "review=soup.find_all(\"div\",class_= \"t-ZTKy\")\n",
    "review_content=[]\n",
    "for i in range(0,len(review)):\n",
    "    review_content.append(review[i].get_text())\n",
    "review_content\n",
    "review_content[:] = [reviews.lstrip('/n') for reviews in review_content]\n",
    "review_content[:] = [reviews.rstrip('/n') for reviews in review_content]\n",
    "review_content"
   ]
  },
  {
   "cell_type": "code",
   "execution_count": null,
   "id": "4d210bcd",
   "metadata": {},
   "outputs": [],
   "source": []
  }
 ],
 "metadata": {
  "kernelspec": {
   "display_name": "Python 3 (ipykernel)",
   "language": "python",
   "name": "python3"
  },
  "language_info": {
   "codemirror_mode": {
    "name": "ipython",
    "version": 3
   },
   "file_extension": ".py",
   "mimetype": "text/x-python",
   "name": "python",
   "nbconvert_exporter": "python",
   "pygments_lexer": "ipython3",
   "version": "3.9.7"
  }
 },
 "nbformat": 4,
 "nbformat_minor": 5
}
