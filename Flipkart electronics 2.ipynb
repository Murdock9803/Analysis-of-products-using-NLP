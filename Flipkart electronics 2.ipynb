{
 "cells": [
  {
   "cell_type": "code",
   "execution_count": 7,
   "id": "e4bd6590",
   "metadata": {},
   "outputs": [
    {
     "data": {
      "text/plain": [
       "[\"Leptop is really good in my first day experience, nice display, nice keybord nice build and thermal, some time fan produce some sound , but as a gamer it's no issue , leptop is good and I got it in nice price in Flipkart compared to other sites , BUT FLIPKART DELIVERED IT VERY LATE ARROUND 13 DAYS , other wise every thing is goodREAD MORE\",\n",
       " 'An Absolute Beast Of A Machine.READ MORE',\n",
       " 'Price is too high but everything else is good.READ MORE']"
      ]
     },
     "execution_count": 7,
     "metadata": {},
     "output_type": "execute_result"
    }
   ],
   "source": [
    " from bs4 import BeautifulSoup as bs\n",
    "import requests\n",
    "link='https://www.flipkart.com/lenovo-legion-5-ryzen-7-octa-core-amd-r7-5800h-16-gb-2-tb-ssd-windows-10-home-6-gb-graphics-nvidia-geforce-rtx-3060-15ach6h-gaming-laptop/p/itm3e4bbd7aa18c9?pid=COMG6AKV9AM8P6BX&lid=LSTCOMG6AKV9AM8P6BX10SQSP&marketplace=FLIPKART&fm=neo%2Fmerchandising&iid=M_ce81d5df-535b-442d-b50d-a5ac4531fa58_4_V3R2M11X3D3Y_MC.COMG6AKV9AM8P6BX&ppt=clp&ppn=smartwatches-store&ssid=koszhunvnk0000001673981288551&otracker=clp_pmu_v2_Lenovo%2BGaming%2BLaptops_5_4.productCard.PMU_V2_Lenovo%2BLegion%2B5%2BRyzen%2B7%2BOcta%2BCore%2BAMD%2BR7-5800H%2B-%2B%252816%2BGB%252F2%2BTB%2BSSD%252FWindows%2B10%2BHome%252F6%2BGB%2BGraphics%252FNVIDIA%2BGeForce%2BRTX%2B3060%2529%2B15ACH6H%2BGaming%2BLaptop_gaming-laptops-store_COMG6AKV9AM8P6BX_neo%2Fmerchandising_4&otracker1=clp_pmu_v2_PINNED_neo%2Fmerchandising_Lenovo%2BGaming%2BLaptops_LIST_productCard_cc_5_NA_view-all&cid=COMG6AKV9AM8P6BX'\n",
    "page=requests.get(link)\n",
    "soup= bs(page.content,\"html.parser\")\n",
    "review=soup.find_all(\"div\", class_=\"t-ZTKy\")\n",
    "review_content=[]\n",
    "for i in range(0,len(review)):\n",
    "    review_content.append(review[i].get_text())\n",
    "review_content\n",
    "review_content[:] = [reviews.lstrip('/n') for reviews in review_content]\n",
    "review_content[:] = [reviews.rstrip('/n') for reviews in review_content]\n",
    "review_content"
   ]
  },
  {
   "cell_type": "code",
   "execution_count": null,
   "id": "68347eb4",
   "metadata": {},
   "outputs": [],
   "source": []
  }
 ],
 "metadata": {
  "kernelspec": {
   "display_name": "Python 3 (ipykernel)",
   "language": "python",
   "name": "python3"
  },
  "language_info": {
   "codemirror_mode": {
    "name": "ipython",
    "version": 3
   },
   "file_extension": ".py",
   "mimetype": "text/x-python",
   "name": "python",
   "nbconvert_exporter": "python",
   "pygments_lexer": "ipython3",
   "version": "3.9.7"
  }
 },
 "nbformat": 4,
 "nbformat_minor": 5
}
