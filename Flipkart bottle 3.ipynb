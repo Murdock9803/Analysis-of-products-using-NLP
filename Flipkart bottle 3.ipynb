{
 "cells": [
  {
   "cell_type": "code",
   "execution_count": 1,
   "id": "cd22362b",
   "metadata": {},
   "outputs": [
    {
     "data": {
      "text/plain": [
       "['Good productREAD MORE',\n",
       " \"It's okREAD MORE\",\n",
       " 'Very bad productREAD MORE',\n",
       " 'GoodREAD MORE',\n",
       " \"Very small I don't like itREAD MORE\",\n",
       " 'PoorREAD MORE',\n",
       " 'Quality less productsREAD MORE']"
      ]
     },
     "execution_count": 1,
     "metadata": {},
     "output_type": "execute_result"
    }
   ],
   "source": [
    "from bs4 import BeautifulSoup as bs\n",
    "import requests\n",
    "link='https://www.flipkart.com/h2o-collection-baby-flask-150ml-150-ml/p/itm82fef6ad89bfa?pid=BOTFYP9XSRRYWHPB&lid=LSTBOTFYP9XSRRYWHPBFFSF3V&marketplace=FLIPKART&store=upp%2Ff2k%2F7k9&srno=b_1_24&otracker=nmenu_sub_Home%20%26%20Furniture_0_Flasks&fm=neo%2Fmerchandising&iid=82a6d6fd-8f1f-4db9-97db-e07cf154838e.BOTFYP9XSRRYWHPB.SEARCH&ppt=browse&ppn=browse'\n",
    "page=requests.get(link)\n",
    "soup= bs(page.content,\"html.parser\")\n",
    "review=soup.find_all(\"div\",class_= \"t-ZTKy\")\n",
    "review_content=[]\n",
    "for i in range(0,len(review)):\n",
    "    review_content.append(review[i].get_text())\n",
    "review_content\n",
    "review_content[:] = [reviews.lstrip('/n') for reviews in review_content]\n",
    "review_content[:] = [reviews.rstrip('/n') for reviews in review_content]\n",
    "review_content"
   ]
  },
  {
   "cell_type": "code",
   "execution_count": null,
   "id": "4fa00864",
   "metadata": {},
   "outputs": [],
   "source": []
  }
 ],
 "metadata": {
  "kernelspec": {
   "display_name": "Python 3 (ipykernel)",
   "language": "python",
   "name": "python3"
  },
  "language_info": {
   "codemirror_mode": {
    "name": "ipython",
    "version": 3
   },
   "file_extension": ".py",
   "mimetype": "text/x-python",
   "name": "python",
   "nbconvert_exporter": "python",
   "pygments_lexer": "ipython3",
   "version": "3.9.7"
  }
 },
 "nbformat": 4,
 "nbformat_minor": 5
}
