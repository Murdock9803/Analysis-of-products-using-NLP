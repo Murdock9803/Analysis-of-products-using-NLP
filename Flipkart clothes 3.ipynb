{
 "cells": [
  {
   "cell_type": "code",
   "execution_count": 1,
   "id": "a14616b6",
   "metadata": {},
   "outputs": [
    {
     "data": {
      "text/plain": [
       "['Nice dress', 'Very nice👌👌👌', 'Amazing 💕']"
      ]
     },
     "execution_count": 1,
     "metadata": {},
     "output_type": "execute_result"
    }
   ],
   "source": [
    " from bs4 import BeautifulSoup as bs\n",
    "import requests\n",
    "link='https://www.flipkart.com/art-clothing-women-skater-multicolor-dress/p/itm729494e247655?pid=DREFZJUZG4GDJC6Q&lid=LSTDREFZJUZG4GDJC6QYIKUCS&marketplace=FLIPKART&store=clo%2Fodx%2Fmaj%2Fjhy&srno=b_1_16&otracker=browse&fm=neo%2Fmerchandising&iid=en_E8rBOpvJ7VmLKXs6rj6nOhRT9gg7J%2BGC03HAD7gFiALX1H1W5lWAo%2Fb844m0cJFoVUafIN2jIzLriqMMhRpGIQ%3D%3D&ppt=browse&ppn=browse'\n",
    "page=requests.get(link)\n",
    "soup= bs(page.content,\"html.parser\")\n",
    "review=soup.find_all(\"div\",class_= \"_6K-7Co\")\n",
    "review_content=[]\n",
    "for i in range(0,len(review)):\n",
    "    review_content.append(review[i].get_text())\n",
    "review_content\n",
    "review_content[:] = [reviews.lstrip('/n') for reviews in review_content]\n",
    "review_content[:] = [reviews.rstrip('/n') for reviews in review_content]\n",
    "review_content"
   ]
  },
  {
   "cell_type": "code",
   "execution_count": null,
   "id": "d547c526",
   "metadata": {},
   "outputs": [],
   "source": []
  }
 ],
 "metadata": {
  "kernelspec": {
   "display_name": "Python 3 (ipykernel)",
   "language": "python",
   "name": "python3"
  },
  "language_info": {
   "codemirror_mode": {
    "name": "ipython",
    "version": 3
   },
   "file_extension": ".py",
   "mimetype": "text/x-python",
   "name": "python",
   "nbconvert_exporter": "python",
   "pygments_lexer": "ipython3",
   "version": "3.9.7"
  }
 },
 "nbformat": 4,
 "nbformat_minor": 5
}
