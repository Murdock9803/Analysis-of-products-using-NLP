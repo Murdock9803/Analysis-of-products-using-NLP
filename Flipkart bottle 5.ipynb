{
 "cells": [
  {
   "cell_type": "code",
   "execution_count": 1,
   "id": "ab5df70c",
   "metadata": {},
   "outputs": [
    {
     "data": {
      "text/plain": [
       "[\"Pls don't buy this product, u know hot water is not storage, waste of moneyREAD MORE\"]"
      ]
     },
     "execution_count": 1,
     "metadata": {},
     "output_type": "execute_result"
    }
   ],
   "source": [
    "from bs4 import BeautifulSoup as bs\n",
    "import requests\n",
    "link='https://www.flipkart.com/melight-hot-cold-water-drinks-storage-bottle-led-display-temperature-st46-500-ml-flask/p/itm49447465d2c5b?pid=BOTGA5JFVFJP3UTS&lid=LSTBOTGA5JFVFJP3UTSMXNHUV&marketplace=FLIPKART&store=upp%2Ff2k%2F7k9&srno=b_7_253&otracker=nmenu_sub_Home%20%26%20Furniture_0_Flasks&fm=neo%2Fmerchandising&iid=fba1b030-0e5b-4681-8e1d-f7dc93a1043c.BOTGA5JFVFJP3UTS.SEARCH&ppt=browse&ppn=browse'\n",
    "page=requests.get(link)\n",
    "soup= bs(page.content,\"html.parser\")\n",
    "review=soup.find_all(\"div\",class_= \"t-ZTKy\")\n",
    "review_content=[]\n",
    "for i in range(0,len(review)):\n",
    "    review_content.append(review[i].get_text())\n",
    "review_content\n",
    "review_content[:] = [reviews.lstrip('/n') for reviews in review_content]\n",
    "review_content[:] = [reviews.rstrip('/n') for reviews in review_content]\n",
    "review_content"
   ]
  },
  {
   "cell_type": "code",
   "execution_count": null,
   "id": "ec1f93ba",
   "metadata": {},
   "outputs": [],
   "source": []
  }
 ],
 "metadata": {
  "kernelspec": {
   "display_name": "Python 3 (ipykernel)",
   "language": "python",
   "name": "python3"
  },
  "language_info": {
   "codemirror_mode": {
    "name": "ipython",
    "version": 3
   },
   "file_extension": ".py",
   "mimetype": "text/x-python",
   "name": "python",
   "nbconvert_exporter": "python",
   "pygments_lexer": "ipython3",
   "version": "3.9.7"
  }
 },
 "nbformat": 4,
 "nbformat_minor": 5
}
