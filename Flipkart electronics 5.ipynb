{
 "cells": [
  {
   "cell_type": "code",
   "execution_count": 1,
   "id": "04aceb0a",
   "metadata": {},
   "outputs": [
    {
     "data": {
      "text/plain": [
       "['Very low qualityREAD MORE',\n",
       " 'Lenses is not goodREAD MORE',\n",
       " 'Very bad productREAD MORE',\n",
       " \"Worst product ever don't buyREAD MORE\",\n",
       " 'Video quality not clearREAD MORE',\n",
       " \"It's not workingREAD MORE\",\n",
       " 'ot comfortableREAD MORE',\n",
       " 'Wast of money lens not clearREAD MORE',\n",
       " 'ot compatible with screen size more than 5 inchesREAD MORE',\n",
       " 'This product was as awesome as i thought....glad to buy that product 💕❣️READ MORE']"
      ]
     },
     "execution_count": 1,
     "metadata": {},
     "output_type": "execute_result"
    }
   ],
   "source": [
    " from bs4 import BeautifulSoup as bs\n",
    "import requests\n",
    "link='https://www.flipkart.com/mehrasons-glasses-virtual-reality-box-all-type-smartphone/p/itmdbf3007586e0d?pid=SGAGHJYYHN64DJF5&lid=LSTSGAGHJYYHN64DJF5ZXAOQH&marketplace=FLIPKART&store=ajy%2Ftcy&srno=b_1_18&otracker=nmenu_sub_Electronics_0_Smart%20Glasses%20(VR)&fm=neo%2Fmerchandising&iid=9aedc2b6-f11f-478e-b12b-f66ec38e0bff.SGAGHJYYHN64DJF5.SEARCH&ppt=browse&ppn=browse'\n",
    "page=requests.get(link)\n",
    "soup= bs(page.content,\"html.parser\")\n",
    "review=soup.find_all(\"div\", class_=\"t-ZTKy\")\n",
    "review_content=[]\n",
    "for i in range(0,len(review)):\n",
    "    review_content.append(review[i].get_text())\n",
    "review_content\n",
    "review_content[:] = [reviews.lstrip('/n') for reviews in review_content]\n",
    "review_content[:] = [reviews.rstrip('/n') for reviews in review_content]\n",
    "review_content"
   ]
  },
  {
   "cell_type": "code",
   "execution_count": null,
   "id": "9f88b5a1",
   "metadata": {},
   "outputs": [],
   "source": []
  }
 ],
 "metadata": {
  "kernelspec": {
   "display_name": "Python 3 (ipykernel)",
   "language": "python",
   "name": "python3"
  },
  "language_info": {
   "codemirror_mode": {
    "name": "ipython",
    "version": 3
   },
   "file_extension": ".py",
   "mimetype": "text/x-python",
   "name": "python",
   "nbconvert_exporter": "python",
   "pygments_lexer": "ipython3",
   "version": "3.9.7"
  }
 },
 "nbformat": 4,
 "nbformat_minor": 5
}
