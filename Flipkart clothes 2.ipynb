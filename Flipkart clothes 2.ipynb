{
 "cells": [
  {
   "cell_type": "code",
   "execution_count": 1,
   "id": "3a6b7d02",
   "metadata": {},
   "outputs": [
    {
     "data": {
      "text/plain": [
       "['Just wow 😘🥰',\n",
       " 'Very beautiful dress!! with good stuff!!',\n",
       " 'Look wise super gorgeous but XL size is not actually xl. U have to alter Lil.... otherwise good 👍']"
      ]
     },
     "execution_count": 1,
     "metadata": {},
     "output_type": "execute_result"
    }
   ],
   "source": [
    " from bs4 import BeautifulSoup as bs\n",
    "import requests\n",
    "link='https://www.flipkart.com/sheetal-associates-women-bodycon-pink-dress/p/itm99e5df33af7bb?pid=DREGHFRAWB3DT5BK&lid=LSTDREGHFRAWB3DT5BK6TMIM4&marketplace=FLIPKART&store=clo%2Fodx%2Fmaj%2Fjhy&srno=b_1_7&otracker=browse&fm=neo%2Fmerchandising&iid=6fc66bdb-9454-4b87-8ea0-e262c3d04507.DREGHFRAWB3DT5BK.SEARCH&ppt=browse&ppn=browse&ssid=4jhe2o8akw0000001673980112702'\n",
    "page=requests.get(link)\n",
    "soup= bs(page.content,\"html.parser\")\n",
    "review=soup.find_all(\"div\",class_= \"_6K-7Co\")\n",
    "review_content=[]\n",
    "for i in range(0,len(review)):\n",
    "    review_content.append(review[i].get_text())\n",
    "review_content\n",
    "review_content[:] = [reviews.lstrip('/n') for reviews in review_content]\n",
    "review_content[:] = [reviews.rstrip('/n') for reviews in review_content]\n",
    "review_content"
   ]
  },
  {
   "cell_type": "code",
   "execution_count": null,
   "id": "34f6d4f1",
   "metadata": {},
   "outputs": [],
   "source": []
  }
 ],
 "metadata": {
  "kernelspec": {
   "display_name": "Python 3 (ipykernel)",
   "language": "python",
   "name": "python3"
  },
  "language_info": {
   "codemirror_mode": {
    "name": "ipython",
    "version": 3
   },
   "file_extension": ".py",
   "mimetype": "text/x-python",
   "name": "python",
   "nbconvert_exporter": "python",
   "pygments_lexer": "ipython3",
   "version": "3.9.7"
  }
 },
 "nbformat": 4,
 "nbformat_minor": 5
}
