{
 "cells": [
  {
   "cell_type": "code",
   "execution_count": 3,
   "id": "78954610",
   "metadata": {},
   "outputs": [
    {
     "data": {
      "text/plain": [
       "[\"I'm very happy with my bottle.... What I ordered it came the same way...  And its packing is also good enough.... I think everybody should order from here everything is amazingREAD MORE\",\n",
       " 'Superb qualityREAD MORE',\n",
       " 'Good product Leakage proof 👍READ MORE',\n",
       " 'All.. are.. good...READ MORE',\n",
       " 'Just wow nice quality. Perfect bottle for office workers.READ MORE',\n",
       " \"It's a good oneREAD MORE\",\n",
       " 'Very good quality bottle and in very low price very good in colour worth for moneyREAD MORE',\n",
       " 'Very good product and quiet bast , 👍👌👌READ MORE',\n",
       " \"Bottle color is too good. It's hard plastic of good quality. Bottle cap is too good. Leak proof and comfortable for drinking water. Only one negative point is that it get scratches easily although they are not directly visible but scratches are their.READ MORE\",\n",
       " \"Please don't buy this is extremely poisonous after one week of use water color started changing also a plastic taste is there,when  put the water in the glass colour of water is different please done by this product is really not good for your healthREAD MORE\"]"
      ]
     },
     "execution_count": 3,
     "metadata": {},
     "output_type": "execute_result"
    }
   ],
   "source": [
    "from bs4 import BeautifulSoup as bs\n",
    "import requests\n",
    "link='https://www.flipkart.com/milton-hector-1000-pet-water-bottle-1-piece-litre-grey-ml-bottle/p/itm7198da1ebf636?pid=BOTG4JF2YDKFXQRG&lid=LSTBOTG4JF2YDKFXQRGLCS2BE&marketplace=FLIPKART&store=upp%2Ff2k%2F0zz&srno=b_1_10&otracker=clp_omu_Household%2BRange_1_5.dealCard.OMU_hnf-bsd-sale-23-store_hnf-bsd-sale-23-store_RZX3HZV914EG_5&otracker1=clp_omu_PINNED_neo%2Fmerchandising_Household%2BRange_NA_dealCard_cc_1_NA_view-all_5&fm=neo%2Fmerchandising&iid=b907a9a0-6de2-4417-add1-aa0ac509907d.BOTG4JF2YDKFXQRG.SEARCH&ppt=browse&ppn=browse&ssid=dtyr1jbco00000001673978736223'\n",
    "page=requests.get(link)\n",
    "soup= bs(page.content,\"html.parser\")\n",
    "review=soup.find_all(\"div\",class_= \"t-ZTKy\")\n",
    "review_content=[]\n",
    "for i in range(0,len(review)):\n",
    "    review_content.append(review[i].get_text())\n",
    "review_content\n",
    "review_content[:] = [reviews.lstrip('/n') for reviews in review_content]\n",
    "review_content[:] = [reviews.rstrip('/n') for reviews in review_content]\n",
    "review_content"
   ]
  },
  {
   "cell_type": "code",
   "execution_count": null,
   "id": "0858d838",
   "metadata": {},
   "outputs": [],
   "source": []
  }
 ],
 "metadata": {
  "kernelspec": {
   "display_name": "Python 3 (ipykernel)",
   "language": "python",
   "name": "python3"
  },
  "language_info": {
   "codemirror_mode": {
    "name": "ipython",
    "version": 3
   },
   "file_extension": ".py",
   "mimetype": "text/x-python",
   "name": "python",
   "nbconvert_exporter": "python",
   "pygments_lexer": "ipython3",
   "version": "3.9.7"
  }
 },
 "nbformat": 4,
 "nbformat_minor": 5
}
